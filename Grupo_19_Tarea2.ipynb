{
  "cells": [
    {
      "cell_type": "markdown",
      "metadata": {
        "id": "a3jwoI0sCZLf"
      },
      "source": [
        "### Pregunta 1"
      ]
    },
    {
      "cell_type": "code",
      "execution_count": 23,
      "metadata": {
        "id": "vq8TWNF6CdA_"
      },
      "outputs": [],
      "source": [
        "import pandas as pd"
      ]
    },
    {
      "cell_type": "code",
      "execution_count": 22,
      "metadata": {
        "colab": {
          "base_uri": "https://localhost:8080/",
          "height": 363
        },
        "id": "xc7a0P4yD4y5",
        "outputId": "9b9b8fa3-a514-4648-ef72-ee7f4f0d57c9"
      },
      "outputs": [
        {
          "data": {
            "text/html": [
              "<div>\n",
              "<style scoped>\n",
              "    .dataframe tbody tr th:only-of-type {\n",
              "        vertical-align: middle;\n",
              "    }\n",
              "\n",
              "    .dataframe tbody tr th {\n",
              "        vertical-align: top;\n",
              "    }\n",
              "\n",
              "    .dataframe thead th {\n",
              "        text-align: right;\n",
              "    }\n",
              "</style>\n",
              "<table border=\"1\" class=\"dataframe\">\n",
              "  <thead>\n",
              "    <tr style=\"text-align: right;\">\n",
              "      <th></th>\n",
              "      <th>Ciudad</th>\n",
              "      <th>Habitantes</th>\n",
              "      <th>Area_km2</th>\n",
              "      <th>Altitud_m</th>\n",
              "      <th>Densidad_poblacion_por_km2</th>\n",
              "    </tr>\n",
              "  </thead>\n",
              "  <tbody>\n",
              "    <tr>\n",
              "      <th>0</th>\n",
              "      <td>Lima</td>\n",
              "      <td>1047996</td>\n",
              "      <td>2672.28</td>\n",
              "      <td>154</td>\n",
              "      <td>3924.0</td>\n",
              "    </tr>\n",
              "    <tr>\n",
              "      <th>1</th>\n",
              "      <td>Arequipa</td>\n",
              "      <td>100169</td>\n",
              "      <td>1545.77</td>\n",
              "      <td>2325</td>\n",
              "      <td>64.8</td>\n",
              "    </tr>\n",
              "    <tr>\n",
              "      <th>2</th>\n",
              "      <td>Trujillo</td>\n",
              "      <td>92331</td>\n",
              "      <td>1487.70</td>\n",
              "      <td>34</td>\n",
              "      <td>62.1</td>\n",
              "    </tr>\n",
              "    <tr>\n",
              "      <th>3</th>\n",
              "      <td>Cusco</td>\n",
              "      <td>428450</td>\n",
              "      <td>116.50</td>\n",
              "      <td>3399</td>\n",
              "      <td>3673.0</td>\n",
              "    </tr>\n",
              "    <tr>\n",
              "      <th>4</th>\n",
              "      <td>Chiclayo</td>\n",
              "      <td>305717</td>\n",
              "      <td>279.89</td>\n",
              "      <td>29</td>\n",
              "      <td>1091.6</td>\n",
              "    </tr>\n",
              "    <tr>\n",
              "      <th>5</th>\n",
              "      <td>Piura</td>\n",
              "      <td>484475</td>\n",
              "      <td>6217.26</td>\n",
              "      <td>29</td>\n",
              "      <td>77.9</td>\n",
              "    </tr>\n",
              "    <tr>\n",
              "      <th>6</th>\n",
              "      <td>Iquitos</td>\n",
              "      <td>441649</td>\n",
              "      <td>368.90</td>\n",
              "      <td>106</td>\n",
              "      <td>1196.0</td>\n",
              "    </tr>\n",
              "    <tr>\n",
              "      <th>7</th>\n",
              "      <td>Huancayo</td>\n",
              "      <td>385098</td>\n",
              "      <td>109.19</td>\n",
              "      <td>3271</td>\n",
              "      <td>3528.6</td>\n",
              "    </tr>\n",
              "    <tr>\n",
              "      <th>8</th>\n",
              "      <td>Tacna</td>\n",
              "      <td>294395</td>\n",
              "      <td>59.40</td>\n",
              "      <td>562</td>\n",
              "      <td>4966.0</td>\n",
              "    </tr>\n",
              "    <tr>\n",
              "      <th>9</th>\n",
              "      <td>Pucallpa</td>\n",
              "      <td>283734</td>\n",
              "      <td>483.44</td>\n",
              "      <td>156</td>\n",
              "      <td>587.2</td>\n",
              "    </tr>\n",
              "  </tbody>\n",
              "</table>\n",
              "</div>"
            ],
            "text/plain": [
              "     Ciudad  Habitantes  Area_km2  Altitud_m  Densidad_poblacion_por_km2\n",
              "0      Lima     1047996   2672.28        154                      3924.0\n",
              "1  Arequipa      100169   1545.77       2325                        64.8\n",
              "2  Trujillo       92331   1487.70         34                        62.1\n",
              "3     Cusco      428450    116.50       3399                      3673.0\n",
              "4  Chiclayo      305717    279.89         29                      1091.6\n",
              "5     Piura      484475   6217.26         29                        77.9\n",
              "6   Iquitos      441649    368.90        106                      1196.0\n",
              "7  Huancayo      385098    109.19       3271                      3528.6\n",
              "8     Tacna      294395     59.40        562                      4966.0\n",
              "9  Pucallpa      283734    483.44        156                       587.2"
            ]
          },
          "execution_count": 22,
          "metadata": {},
          "output_type": "execute_result"
        }
      ],
      "source": [
        "data_ciudades = {\n",
        "    'Ciudad': ['Lima', 'Arequipa', 'Trujillo', 'Cusco', 'Chiclayo', 'Piura', 'Iquitos', 'Huancayo', 'Tacna', 'Pucallpa'],\n",
        "    'Habitantes': [1047996, 100169, 92331, 428450, 305717, 484475, 441649, 385098, 294395, 283734],\n",
        "    'Area_km2': [2672.28, 1545.77, 1487.7, 116.5, 279.89, 6217.26, 368.9, 109.19, 59.4, 483.44],\n",
        "    'Altitud_m': [154, 2325, 34, 3399, 29, 29, 106, 3271, 562, 156],\n",
        "    'Densidad_poblacion_por_km2': [3924, 64.8, 62.1, 3673, 1091.6, 77.9, 1196, 3528.6, 4966, 587.2]\n",
        "}\n",
        "\n",
        "\n",
        "nfo = pd.DataFrame(data_ciudades)\n",
        "\n",
        "nfo"
      ]
    },
    {
      "cell_type": "markdown",
      "metadata": {
        "id": "PjkzN6IwFaOe"
      },
      "source": [
        "### Preungta 2"
      ]
    },
    {
      "cell_type": "code",
      "execution_count": 24,
      "metadata": {
        "colab": {
          "base_uri": "https://localhost:8080/",
          "height": 363
        },
        "id": "nKvNr9tJFb2B",
        "outputId": "561b314e-82c7-4cb1-937e-3cfdbd7e8152"
      },
      "outputs": [
        {
          "data": {
            "text/html": [
              "<div>\n",
              "<style scoped>\n",
              "    .dataframe tbody tr th:only-of-type {\n",
              "        vertical-align: middle;\n",
              "    }\n",
              "\n",
              "    .dataframe tbody tr th {\n",
              "        vertical-align: top;\n",
              "    }\n",
              "\n",
              "    .dataframe thead th {\n",
              "        text-align: right;\n",
              "    }\n",
              "</style>\n",
              "<table border=\"1\" class=\"dataframe\">\n",
              "  <thead>\n",
              "    <tr style=\"text-align: right;\">\n",
              "      <th></th>\n",
              "      <th>Ciudad</th>\n",
              "      <th>Gentilicio</th>\n",
              "      <th>Provincia</th>\n",
              "      <th>Region</th>\n",
              "    </tr>\n",
              "  </thead>\n",
              "  <tbody>\n",
              "    <tr>\n",
              "      <th>0</th>\n",
              "      <td>Lima</td>\n",
              "      <td>Limense</td>\n",
              "      <td>Lima</td>\n",
              "      <td>Lima</td>\n",
              "    </tr>\n",
              "    <tr>\n",
              "      <th>1</th>\n",
              "      <td>Arequipa</td>\n",
              "      <td>Arequipeño</td>\n",
              "      <td>Arequipa</td>\n",
              "      <td>Arequipa</td>\n",
              "    </tr>\n",
              "    <tr>\n",
              "      <th>2</th>\n",
              "      <td>Trujillo</td>\n",
              "      <td>Trujillano</td>\n",
              "      <td>Trujillo</td>\n",
              "      <td>La Libertad</td>\n",
              "    </tr>\n",
              "    <tr>\n",
              "      <th>3</th>\n",
              "      <td>Cusco</td>\n",
              "      <td>Cusqueño</td>\n",
              "      <td>Cusco</td>\n",
              "      <td>Cusco</td>\n",
              "    </tr>\n",
              "    <tr>\n",
              "      <th>4</th>\n",
              "      <td>Chiclayo</td>\n",
              "      <td>Chiclayano</td>\n",
              "      <td>Chiclayo</td>\n",
              "      <td>Lambayeque</td>\n",
              "    </tr>\n",
              "    <tr>\n",
              "      <th>5</th>\n",
              "      <td>Piura</td>\n",
              "      <td>Piurano</td>\n",
              "      <td>Piura</td>\n",
              "      <td>Piura</td>\n",
              "    </tr>\n",
              "    <tr>\n",
              "      <th>6</th>\n",
              "      <td>Iquitos</td>\n",
              "      <td>Iquiteño</td>\n",
              "      <td>Maynas</td>\n",
              "      <td>Loreto</td>\n",
              "    </tr>\n",
              "    <tr>\n",
              "      <th>7</th>\n",
              "      <td>Huancayo</td>\n",
              "      <td>Huancaino</td>\n",
              "      <td>Huancayo</td>\n",
              "      <td>Junín</td>\n",
              "    </tr>\n",
              "    <tr>\n",
              "      <th>8</th>\n",
              "      <td>Tacna</td>\n",
              "      <td>Tacneño</td>\n",
              "      <td>Tacna</td>\n",
              "      <td>Tacna</td>\n",
              "    </tr>\n",
              "    <tr>\n",
              "      <th>9</th>\n",
              "      <td>Pucallpa</td>\n",
              "      <td>Pucallpino</td>\n",
              "      <td>Coronel Portillo</td>\n",
              "      <td>Ucayali</td>\n",
              "    </tr>\n",
              "  </tbody>\n",
              "</table>\n",
              "</div>"
            ],
            "text/plain": [
              "     Ciudad  Gentilicio         Provincia       Region\n",
              "0      Lima     Limense              Lima         Lima\n",
              "1  Arequipa  Arequipeño          Arequipa     Arequipa\n",
              "2  Trujillo  Trujillano          Trujillo  La Libertad\n",
              "3     Cusco    Cusqueño             Cusco        Cusco\n",
              "4  Chiclayo  Chiclayano          Chiclayo   Lambayeque\n",
              "5     Piura     Piurano             Piura        Piura\n",
              "6   Iquitos    Iquiteño            Maynas       Loreto\n",
              "7  Huancayo   Huancaino          Huancayo        Junín\n",
              "8     Tacna     Tacneño             Tacna        Tacna\n",
              "9  Pucallpa  Pucallpino  Coronel Portillo      Ucayali"
            ]
          },
          "execution_count": 24,
          "metadata": {},
          "output_type": "execute_result"
        }
      ],
      "source": [
        "data_ciudades_2 = {\n",
        "    'Ciudad': ['Lima', 'Arequipa', 'Trujillo', 'Cusco', 'Chiclayo', 'Piura', 'Iquitos', 'Huancayo', 'Tacna', 'Pucallpa'],\n",
        "    'Gentilicio': ['Limense', 'Arequipeño', 'Trujillano', 'Cusqueño', 'Chiclayano', 'Piurano', 'Iquiteño', 'Huancaino', 'Tacneño', 'Pucallpino'],\n",
        "    'Provincia': ['Lima', 'Arequipa', 'Trujillo', 'Cusco', 'Chiclayo', 'Piura', 'Maynas', 'Huancayo', 'Tacna', 'Coronel Portillo'],\n",
        "    'Region': ['Lima', 'Arequipa', 'La Libertad', 'Cusco', 'Lambayeque', 'Piura', 'Loreto', 'Junín', 'Tacna', 'Ucayali']\n",
        "}\n",
        "\n",
        "nombres = pd.DataFrame(data_ciudades_2)\n",
        "\n",
        "nombres"
      ]
    },
    {
      "cell_type": "markdown",
      "metadata": {
        "id": "YtvKZz_KHzEQ"
      },
      "source": [
        "### Pregunta 3"
      ]
    },
    {
      "cell_type": "code",
      "execution_count": 25,
      "metadata": {
        "colab": {
          "base_uri": "https://localhost:8080/",
          "height": 363
        },
        "id": "INYavkbHH0fe",
        "outputId": "dddbfbff-2ae7-476b-e9d4-8349943d4072"
      },
      "outputs": [
        {
          "data": {
            "text/html": [
              "<div>\n",
              "<style scoped>\n",
              "    .dataframe tbody tr th:only-of-type {\n",
              "        vertical-align: middle;\n",
              "    }\n",
              "\n",
              "    .dataframe tbody tr th {\n",
              "        vertical-align: top;\n",
              "    }\n",
              "\n",
              "    .dataframe thead th {\n",
              "        text-align: right;\n",
              "    }\n",
              "</style>\n",
              "<table border=\"1\" class=\"dataframe\">\n",
              "  <thead>\n",
              "    <tr style=\"text-align: right;\">\n",
              "      <th></th>\n",
              "      <th>Ciudad</th>\n",
              "      <th>Habitantes</th>\n",
              "      <th>Area_km2</th>\n",
              "      <th>Altitud_m</th>\n",
              "      <th>Densidad_poblacion_por_km2</th>\n",
              "      <th>Gentilicio</th>\n",
              "      <th>Provincia</th>\n",
              "      <th>Region</th>\n",
              "    </tr>\n",
              "  </thead>\n",
              "  <tbody>\n",
              "    <tr>\n",
              "      <th>0</th>\n",
              "      <td>Lima</td>\n",
              "      <td>1047996</td>\n",
              "      <td>2672.28</td>\n",
              "      <td>154</td>\n",
              "      <td>3924.0</td>\n",
              "      <td>Limense</td>\n",
              "      <td>Lima</td>\n",
              "      <td>Lima</td>\n",
              "    </tr>\n",
              "    <tr>\n",
              "      <th>1</th>\n",
              "      <td>Arequipa</td>\n",
              "      <td>100169</td>\n",
              "      <td>1545.77</td>\n",
              "      <td>2325</td>\n",
              "      <td>64.8</td>\n",
              "      <td>Arequipeño</td>\n",
              "      <td>Arequipa</td>\n",
              "      <td>Arequipa</td>\n",
              "    </tr>\n",
              "    <tr>\n",
              "      <th>2</th>\n",
              "      <td>Trujillo</td>\n",
              "      <td>92331</td>\n",
              "      <td>1487.70</td>\n",
              "      <td>34</td>\n",
              "      <td>62.1</td>\n",
              "      <td>Trujillano</td>\n",
              "      <td>Trujillo</td>\n",
              "      <td>La Libertad</td>\n",
              "    </tr>\n",
              "    <tr>\n",
              "      <th>3</th>\n",
              "      <td>Cusco</td>\n",
              "      <td>428450</td>\n",
              "      <td>116.50</td>\n",
              "      <td>3399</td>\n",
              "      <td>3673.0</td>\n",
              "      <td>Cusqueño</td>\n",
              "      <td>Cusco</td>\n",
              "      <td>Cusco</td>\n",
              "    </tr>\n",
              "    <tr>\n",
              "      <th>4</th>\n",
              "      <td>Chiclayo</td>\n",
              "      <td>305717</td>\n",
              "      <td>279.89</td>\n",
              "      <td>29</td>\n",
              "      <td>1091.6</td>\n",
              "      <td>Chiclayano</td>\n",
              "      <td>Chiclayo</td>\n",
              "      <td>Lambayeque</td>\n",
              "    </tr>\n",
              "    <tr>\n",
              "      <th>5</th>\n",
              "      <td>Piura</td>\n",
              "      <td>484475</td>\n",
              "      <td>6217.26</td>\n",
              "      <td>29</td>\n",
              "      <td>77.9</td>\n",
              "      <td>Piurano</td>\n",
              "      <td>Piura</td>\n",
              "      <td>Piura</td>\n",
              "    </tr>\n",
              "    <tr>\n",
              "      <th>6</th>\n",
              "      <td>Iquitos</td>\n",
              "      <td>441649</td>\n",
              "      <td>368.90</td>\n",
              "      <td>106</td>\n",
              "      <td>1196.0</td>\n",
              "      <td>Iquiteño</td>\n",
              "      <td>Maynas</td>\n",
              "      <td>Loreto</td>\n",
              "    </tr>\n",
              "    <tr>\n",
              "      <th>7</th>\n",
              "      <td>Huancayo</td>\n",
              "      <td>385098</td>\n",
              "      <td>109.19</td>\n",
              "      <td>3271</td>\n",
              "      <td>3528.6</td>\n",
              "      <td>Huancaino</td>\n",
              "      <td>Huancayo</td>\n",
              "      <td>Junín</td>\n",
              "    </tr>\n",
              "    <tr>\n",
              "      <th>8</th>\n",
              "      <td>Tacna</td>\n",
              "      <td>294395</td>\n",
              "      <td>59.40</td>\n",
              "      <td>562</td>\n",
              "      <td>4966.0</td>\n",
              "      <td>Tacneño</td>\n",
              "      <td>Tacna</td>\n",
              "      <td>Tacna</td>\n",
              "    </tr>\n",
              "    <tr>\n",
              "      <th>9</th>\n",
              "      <td>Pucallpa</td>\n",
              "      <td>283734</td>\n",
              "      <td>483.44</td>\n",
              "      <td>156</td>\n",
              "      <td>587.2</td>\n",
              "      <td>Pucallpino</td>\n",
              "      <td>Coronel Portillo</td>\n",
              "      <td>Ucayali</td>\n",
              "    </tr>\n",
              "  </tbody>\n",
              "</table>\n",
              "</div>"
            ],
            "text/plain": [
              "     Ciudad  Habitantes  Area_km2  Altitud_m  Densidad_poblacion_por_km2  \\\n",
              "0      Lima     1047996   2672.28        154                      3924.0   \n",
              "1  Arequipa      100169   1545.77       2325                        64.8   \n",
              "2  Trujillo       92331   1487.70         34                        62.1   \n",
              "3     Cusco      428450    116.50       3399                      3673.0   \n",
              "4  Chiclayo      305717    279.89         29                      1091.6   \n",
              "5     Piura      484475   6217.26         29                        77.9   \n",
              "6   Iquitos      441649    368.90        106                      1196.0   \n",
              "7  Huancayo      385098    109.19       3271                      3528.6   \n",
              "8     Tacna      294395     59.40        562                      4966.0   \n",
              "9  Pucallpa      283734    483.44        156                       587.2   \n",
              "\n",
              "   Gentilicio         Provincia       Region  \n",
              "0     Limense              Lima         Lima  \n",
              "1  Arequipeño          Arequipa     Arequipa  \n",
              "2  Trujillano          Trujillo  La Libertad  \n",
              "3    Cusqueño             Cusco        Cusco  \n",
              "4  Chiclayano          Chiclayo   Lambayeque  \n",
              "5     Piurano             Piura        Piura  \n",
              "6    Iquiteño            Maynas       Loreto  \n",
              "7   Huancaino          Huancayo        Junín  \n",
              "8     Tacneño             Tacna        Tacna  \n",
              "9  Pucallpino  Coronel Portillo      Ucayali  "
            ]
          },
          "execution_count": 25,
          "metadata": {},
          "output_type": "execute_result"
        }
      ],
      "source": [
        "cuadro_1 = pd.merge(nfo, nombres, on = \"Ciudad\", how = \"inner\")\n",
        "\n",
        "cuadro_1"
      ]
    },
    {
      "cell_type": "markdown",
      "metadata": {
        "id": "XtqDWkSGI3FU"
      },
      "source": [
        "### Pregunta 4"
      ]
    },
    {
      "cell_type": "code",
      "execution_count": 6,
      "metadata": {
        "colab": {
          "base_uri": "https://localhost:8080/"
        },
        "id": "qtXe3g9mI4ng",
        "outputId": "4661cb77-d31e-4675-c895-2a8c789bca4a"
      },
      "outputs": [
        {
          "name": "stdout",
          "output_type": "stream",
          "text": [
            "         Habitantes    Area_km2    Altitud_m  Densidad_poblacion_por_km2\n",
            "count  1.000000e+01    10.00000    10.000000                   10.000000\n",
            "mean   3.864014e+05  1334.03300  1006.500000                 1917.120000\n",
            "std    2.679283e+05  1917.13852  1410.508754                 1892.333136\n",
            "min    9.233100e+04    59.40000    29.000000                   62.100000\n",
            "25%    2.863992e+05   157.34750    52.000000                  205.225000\n",
            "50%    3.454075e+05   426.17000   155.000000                 1143.800000\n",
            "75%    4.383492e+05  1531.25250  1884.250000                 3636.900000\n",
            "max    1.047996e+06  6217.26000  3399.000000                 4966.000000\n",
            "La mínima densidad poblacional es 62.1 y pertenece a la ciudad de Trujillo\n",
            "La máxima densidad poblacional es 4966.0 y pértenece a la ciudad de Tacna\n"
          ]
        }
      ],
      "source": [
        "estadisticas_descriptivas = cuadro_1.describe()\n",
        "print(estadisticas_descriptivas)\n",
        "\n",
        "densidad_minima = cuadro_1[\"Densidad_poblacion_por_km2\"].min()\n",
        "ciudad_densidad_minima = cuadro_1[cuadro_1[\"Densidad_poblacion_por_km2\"] == densidad_minima][\"Ciudad\"].iloc[0]\n",
        "\n",
        "densidad_maxima = cuadro_1[\"Densidad_poblacion_por_km2\"].max()\n",
        "ciudad_densidad_maxima = cuadro_1[cuadro_1[\"Densidad_poblacion_por_km2\"] == densidad_maxima][\"Ciudad\"].iloc[0]\n",
        "\n",
        "print(f\"La mínima densidad poblacional es {densidad_minima} y pertenece a la ciudad de {ciudad_densidad_minima}\")\n",
        "print(f\"La máxima densidad poblacional es {densidad_maxima} y pértenece a la ciudad de {ciudad_densidad_maxima}\")"
      ]
    },
    {
      "cell_type": "markdown",
      "metadata": {
        "id": "LCza4rikJ1XL"
      },
      "source": [
        "### Pregunta 5"
      ]
    },
    {
      "cell_type": "code",
      "execution_count": 19,
      "metadata": {
        "id": "EXaMHsSKJ23H"
      },
      "outputs": [],
      "source": [
        "import matplotlib.pyplot as plt\n",
        "import seaborn as sns"
      ]
    },
    {
      "cell_type": "code",
      "execution_count": 20,
      "metadata": {
        "colab": {
          "base_uri": "https://localhost:8080/",
          "height": 696
        },
        "id": "LenbUlJDKGSU",
        "outputId": "823ac5ea-cb64-47dd-c876-5c10b0605924"
      },
      "outputs": [
        {
          "name": "stderr",
          "output_type": "stream",
          "text": [
            "C:\\Users\\OMEN\\AppData\\Local\\Temp\\ipykernel_27216\\3042878242.py:2: FutureWarning: \n",
            "\n",
            "Passing `palette` without assigning `hue` is deprecated and will be removed in v0.14.0. Assign the `x` variable to `hue` and set `legend=False` for the same effect.\n",
            "\n",
            "  sns.barplot(x=\"Ciudad\", y = \"Habitantes\", data = cuadro_1, palette = \"viridis\")\n"
          ]
        },
        {
          "data": {
            "image/png": "[encoded data removed]",
            "text/plain": [
              "<Figure size 1000x600 with 1 Axes>"
            ]
          },
          "metadata": {},
          "output_type": "display_data"
        }
      ],
      "source": [
        "plt.figure(figsize=(10, 6))\n",
        "sns.barplot(x=\"Ciudad\", y = \"Habitantes\", data = cuadro_1, palette = \"viridis\")\n",
        "\n",
        "plt.xlabel(\"Ciudad\")\n",
        "plt.ylabel(\"Cantidad de habitantes\")\n",
        "plt.title(\"Cantidad de habitantes por ciudad\")\n",
        "plt.xticks(rotation=45)\n",
        "\n",
        "plt.show()"
      ]
    },
    {
      "cell_type": "markdown",
      "metadata": {
        "id": "lhC3Dcb7PtTK"
      },
      "source": [
        "### Pregunta 6"
      ]
    },
    {
      "cell_type": "code",
      "execution_count": 21,
      "metadata": {
        "colab": {
          "base_uri": "https://localhost:8080/",
          "height": 565
        },
        "id": "0daRYazZPvEl",
        "outputId": "50605cfa-03e5-4384-8e0c-5ebc230d210f"
      },
      "outputs": [
        {
          "data": {
            "image/png": "[encoded data removed]",
            "text/plain": [
              "<Figure size 1000x600 with 1 Axes>"
            ]
          },
          "metadata": {},
          "output_type": "display_data"
        }
      ],
      "source": [
        "plt.figure(figsize=(10, 6))\n",
        "sns.scatterplot(x=\"Altitud_m\", y=\"Habitantes\", data=cuadro_1, hue=\"Ciudad\", palette=\"viridis\", s=100)\n",
        "\n",
        "plt.xlabel(\"Altitud (m)\")\n",
        "plt.ylabel(\"Cantidad de habitantes\")\n",
        "plt.title(\"Relación entre altitud y cantidad de habitantes por ciudad\")\n",
        "\n",
        "plt.show()\n"
      ]
    }
  ],
  "metadata": {
    "colab": {
      "provenance": []
    },
    "kernelspec": {
      "display_name": "Python 3",
      "name": "python3"
    },
    "language_info": {
      "codemirror_mode": {
        "name": "ipython",
        "version": 3
      },
      "file_extension": ".py",
      "mimetype": "text/x-python",
      "name": "python",
      "nbconvert_exporter": "python",
      "pygments_lexer": "ipython3",
      "version": "3.11.9"
    }
  },
  "nbformat": 4,
  "nbformat_minor": 0
}
