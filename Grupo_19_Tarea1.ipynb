{
  "cells": [
    {
      "cell_type": "markdown",
      "source": [
        "# Pregunta 1"
      ],
      "metadata": {
        "id": "LrxhBtLtFRVE"
      }
    },
    {
      "cell_type": "code",
      "source": [
        "x = 6\n",
        "\n",
        "if x % 2 == 0 and x % 3 == 0:\n",
        "  print(\"x es múltiplo de 2 y 3\")\n",
        "\n",
        "elif x % 3 == 0:\n",
        "  print(\"x es múltiplo de 3\")\n",
        "\n",
        "elif x % 2 == 0:\n",
        "  print(\"x es múltiplo de 2\")\n",
        "\n",
        "else:\n",
        "  print(\"Otro caso\")"
      ],
      "metadata": {
        "colab": {
          "base_uri": "https://localhost:8080/"
        },
        "id": "Swa-0MvIFdtZ",
        "outputId": "c143df5a-15a3-42f2-fe01-230c4fe80dfc"
      },
      "execution_count": null,
      "outputs": [
        {
          "output_type": "stream",
          "name": "stdout",
          "text": [
            "x es múltiplo de 2 y 3\n"
          ]
        }
      ]
    },
    {
      "cell_type": "markdown",
      "source": [
        "# Pregunta 2"
      ],
      "metadata": {
        "id": "9QDMDKY7TjFn"
      }
    },
    {
      "cell_type": "code",
      "source": [
        "for x in range(1,101):\n",
        "  if x % 3 == 0:\n",
        "    print(\"Fizz\")\n",
        "\n",
        "  elif x % 5 == 0:\n",
        "    print(\"Buzz\")\n",
        "\n",
        "  elif x % 3 == 0 and x % 5 == 0:\n",
        "    print(\"FizzBuzz\")\n",
        "\n",
        "  else:\n",
        "    print(x)"
      ],
      "metadata": {
        "colab": {
          "base_uri": "https://localhost:8080/"
        },
        "id": "mGO9t5jtHAzO",
        "outputId": "10215bcc-0847-4e1c-cbe1-b3806927d7e2"
      },
      "execution_count": null,
      "outputs": [
        {
          "output_type": "stream",
          "name": "stdout",
          "text": [
            "1\n",
            "2\n",
            "Fizz\n",
            "4\n",
            "Buzz\n",
            "Fizz\n",
            "7\n",
            "8\n",
            "Fizz\n",
            "Buzz\n",
            "11\n",
            "Fizz\n",
            "13\n",
            "14\n",
            "Fizz\n",
            "16\n",
            "17\n",
            "Fizz\n",
            "19\n",
            "Buzz\n",
            "Fizz\n",
            "22\n",
            "23\n",
            "Fizz\n",
            "Buzz\n",
            "26\n",
            "Fizz\n",
            "28\n",
            "29\n",
            "Fizz\n",
            "31\n",
            "32\n",
            "Fizz\n",
            "34\n",
            "Buzz\n",
            "Fizz\n",
            "37\n",
            "38\n",
            "Fizz\n",
            "Buzz\n",
            "41\n",
            "Fizz\n",
            "43\n",
            "44\n",
            "Fizz\n",
            "46\n",
            "47\n",
            "Fizz\n",
            "49\n",
            "Buzz\n",
            "Fizz\n",
            "52\n",
            "53\n",
            "Fizz\n",
            "Buzz\n",
            "56\n",
            "Fizz\n",
            "58\n",
            "59\n",
            "Fizz\n",
            "61\n",
            "62\n",
            "Fizz\n",
            "64\n",
            "Buzz\n",
            "Fizz\n",
            "67\n",
            "68\n",
            "Fizz\n",
            "Buzz\n",
            "71\n",
            "Fizz\n",
            "73\n",
            "74\n",
            "Fizz\n",
            "76\n",
            "77\n",
            "Fizz\n",
            "79\n",
            "Buzz\n",
            "Fizz\n",
            "82\n",
            "83\n",
            "Fizz\n",
            "Buzz\n",
            "86\n",
            "Fizz\n",
            "88\n",
            "89\n",
            "Fizz\n",
            "91\n",
            "92\n",
            "Fizz\n",
            "94\n",
            "Buzz\n",
            "Fizz\n",
            "97\n",
            "98\n",
            "Fizz\n",
            "Buzz\n"
          ]
        }
      ]
    },
    {
      "cell_type": "markdown",
      "source": [
        "# Pregunta 3"
      ],
      "metadata": {
        "id": "JZ8c_a6xI-EM"
      }
    },
    {
      "cell_type": "code",
      "source": [
        "def calcular_descuento(total):\n",
        "  if total > 1000:\n",
        "    descuento = total * 0.2\n",
        "\n",
        "  elif total >= 500:\n",
        "    descuento = total * 0.1\n",
        "\n",
        "  else:\n",
        "    descuento = 0\n",
        "\n",
        "  total_final = total - descuento\n",
        "\n",
        "  return  total_final"
      ],
      "metadata": {
        "id": "dIuM50tYI_Cs"
      },
      "execution_count": null,
      "outputs": []
    },
    {
      "cell_type": "code",
      "source": [
        "# Prueba con 1200\n",
        "\n",
        "calcular_descuento(1200)"
      ],
      "metadata": {
        "colab": {
          "base_uri": "https://localhost:8080/"
        },
        "id": "gdJuedpZKPT6",
        "outputId": "e2316e72-d4a6-4c07-f189-0d14b6764e1d"
      },
      "execution_count": null,
      "outputs": [
        {
          "output_type": "execute_result",
          "data": {
            "text/plain": [
              "960.0"
            ]
          },
          "metadata": {},
          "execution_count": 13
        }
      ]
    },
    {
      "cell_type": "code",
      "source": [
        "# Prueba con 700\n",
        "\n",
        "calcular_descuento(750)"
      ],
      "metadata": {
        "colab": {
          "base_uri": "https://localhost:8080/"
        },
        "id": "UxNpT2JxKw7d",
        "outputId": "60eca26c-8d1b-4502-82dc-5f0493f60f5c"
      },
      "execution_count": null,
      "outputs": [
        {
          "output_type": "execute_result",
          "data": {
            "text/plain": [
              "675.0"
            ]
          },
          "metadata": {},
          "execution_count": 15
        }
      ]
    },
    {
      "cell_type": "code",
      "source": [
        "# Prueba con 300\n",
        "\n",
        "calcular_descuento(300)"
      ],
      "metadata": {
        "colab": {
          "base_uri": "https://localhost:8080/"
        },
        "id": "CbdhKsSTK0h0",
        "outputId": "92d7bbef-2522-47ce-af37-1b8121b8672c"
      },
      "execution_count": null,
      "outputs": [
        {
          "output_type": "execute_result",
          "data": {
            "text/plain": [
              "300"
            ]
          },
          "metadata": {},
          "execution_count": 16
        }
      ]
    },
    {
      "cell_type": "markdown",
      "source": [
        "# Pregunta 4"
      ],
      "metadata": {
        "id": "eHdn0I7SLF2P"
      }
    },
    {
      "cell_type": "code",
      "source": [
        "def clasificar_edad(edad):\n",
        "  if edad < 12:\n",
        "    return \"Niño\"\n",
        "\n",
        "  elif 12 <= edad <= 17:\n",
        "    return \"Adolescente\"\n",
        "\n",
        "  elif 18 <= edad <= 24:\n",
        "    return \"Joven\"\n",
        "\n",
        "  elif 24 <= edad <= 64:\n",
        "    return \"Adulto\"\n",
        "\n",
        "  elif edad >= 65:\n",
        "    return \"Adulto mayor\""
      ],
      "metadata": {
        "id": "T3IsxB6FLH4l"
      },
      "execution_count": null,
      "outputs": []
    },
    {
      "cell_type": "code",
      "source": [
        "#Prueba con 10 años\n",
        "\n",
        "clasificar_edad(10)"
      ],
      "metadata": {
        "colab": {
          "base_uri": "https://localhost:8080/",
          "height": 35
        },
        "id": "lCmpfxe3MLER",
        "outputId": "f232fb75-d84e-4ddf-c47d-177a218faddd"
      },
      "execution_count": null,
      "outputs": [
        {
          "output_type": "execute_result",
          "data": {
            "text/plain": [
              "'Niño'"
            ],
            "application/vnd.google.colaboratory.intrinsic+json": {
              "type": "string"
            }
          },
          "metadata": {},
          "execution_count": 25
        }
      ]
    },
    {
      "cell_type": "code",
      "source": [
        "#Prueba con 19 años\n",
        "\n",
        "clasificar_edad(19)"
      ],
      "metadata": {
        "colab": {
          "base_uri": "https://localhost:8080/",
          "height": 35
        },
        "id": "f8JanrqPMyCh",
        "outputId": "b78dc245-db44-4538-8968-1e241baba1a2"
      },
      "execution_count": null,
      "outputs": [
        {
          "output_type": "execute_result",
          "data": {
            "text/plain": [
              "'Joven'"
            ],
            "application/vnd.google.colaboratory.intrinsic+json": {
              "type": "string"
            }
          },
          "metadata": {},
          "execution_count": 28
        }
      ]
    },
    {
      "cell_type": "code",
      "source": [
        "#Prueba con 25 años\n",
        "\n",
        "clasificar_edad(25)"
      ],
      "metadata": {
        "colab": {
          "base_uri": "https://localhost:8080/",
          "height": 35
        },
        "id": "A4BFzqbOM1Nc",
        "outputId": "0c3686eb-d3b1-49cc-ad84-846ae17e5854"
      },
      "execution_count": null,
      "outputs": [
        {
          "output_type": "execute_result",
          "data": {
            "text/plain": [
              "'Adulto'"
            ],
            "application/vnd.google.colaboratory.intrinsic+json": {
              "type": "string"
            }
          },
          "metadata": {},
          "execution_count": 27
        }
      ]
    },
    {
      "cell_type": "code",
      "source": [
        "#Prueba con 70 años\n",
        "\n",
        "clasificar_edad(70)"
      ],
      "metadata": {
        "colab": {
          "base_uri": "https://localhost:8080/",
          "height": 35
        },
        "id": "Ui-iMYchM3rW",
        "outputId": "80b30ae3-4dda-4d2e-8ca3-a0efb3fee0fe"
      },
      "execution_count": null,
      "outputs": [
        {
          "output_type": "execute_result",
          "data": {
            "text/plain": [
              "'Adulto mayor'"
            ],
            "application/vnd.google.colaboratory.intrinsic+json": {
              "type": "string"
            }
          },
          "metadata": {},
          "execution_count": 26
        }
      ]
    },
    {
      "cell_type": "markdown",
      "source": [
        "# Pregunta 5"
      ],
      "metadata": {
        "id": "Ebju99Y1NBPN"
      }
    },
    {
      "cell_type": "code",
      "source": [
        "def calcular_craest(media_personal, media_curso, desviacion_curso):\n",
        "\n",
        "  \"\"\"\n",
        "  Fórmula CRAEST = ((media_personal - media_curso)*10) / desviacion_curso + 50\n",
        "\n",
        "  Parámetros:\n",
        "\n",
        "  media_personal(tipo float) = Media del estudiante\n",
        "  media_curso(tipo float) = Media total del curso\n",
        "  desviacion_curso(tipo float) = Desviación estándar de curso\n",
        "\n",
        "  Al poner nuestros parámetros nos retorna el valor del CRAEST\n",
        "  \"\"\"\n",
        "\n",
        "  craest = ((media_personal - media_curso)*10) / desviacion_curso + 50\n",
        "\n",
        "  return craest"
      ],
      "metadata": {
        "id": "JM46PWFbNCPG"
      },
      "execution_count": null,
      "outputs": []
    },
    {
      "cell_type": "code",
      "source": [
        "calcular_craest(17,11,2)"
      ],
      "metadata": {
        "colab": {
          "base_uri": "https://localhost:8080/"
        },
        "id": "r4NjWSmcPnWD",
        "outputId": "18d41bf0-f854-4af9-d503-8a5c617b7de0"
      },
      "execution_count": null,
      "outputs": [
        {
          "output_type": "execute_result",
          "data": {
            "text/plain": [
              "80.0"
            ]
          },
          "metadata": {},
          "execution_count": 36
        }
      ]
    },
    {
      "cell_type": "code",
      "source": [
        "#Comprobando manualmente\n",
        "\n",
        "((17-11)*10) / 2 + 50"
      ],
      "metadata": {
        "colab": {
          "base_uri": "https://localhost:8080/"
        },
        "id": "4PYKJyTKP0fM",
        "outputId": "4a6def4f-e541-4bc4-a2aa-7929f2ccbbff"
      },
      "execution_count": null,
      "outputs": [
        {
          "output_type": "execute_result",
          "data": {
            "text/plain": [
              "80.0"
            ]
          },
          "metadata": {},
          "execution_count": 37
        }
      ]
    },
    {
      "cell_type": "code",
      "source": [
        "#Comprobando intuitivamente\n",
        "\n",
        "media_personal = 17\n",
        "media_curso = 11\n",
        "desviacion_curso = 2\n",
        "\n",
        "calcular_craest(media_personal, media_curso, desviacion_curso)"
      ],
      "metadata": {
        "colab": {
          "base_uri": "https://localhost:8080/"
        },
        "id": "fbYpsSmsQ5gd",
        "outputId": "ed52bbe9-75f2-4bc9-eb0d-5a06520b62ab"
      },
      "execution_count": null,
      "outputs": [
        {
          "output_type": "execute_result",
          "data": {
            "text/plain": [
              "80.0"
            ]
          },
          "metadata": {},
          "execution_count": 38
        }
      ]
    }
  ],
  "metadata": {
    "colab": {
      "provenance": []
    },
    "kernelspec": {
      "display_name": "Python 3",
      "name": "python3"
    }
  },
  "nbformat": 4,
  "nbformat_minor": 0
}